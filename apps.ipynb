{
 "cells": [
  {
   "cell_type": "code",
   "execution_count": 4,
   "metadata": {},
   "outputs": [
    {
     "name": "stdout",
     "output_type": "stream",
     "text": [
      "   latitude  longitude  brightness  scan  track    acq_date  acq_time  \\\n",
      "0   -0.9296   101.7016       310.0   1.5    1.2  2023-01-01       640   \n",
      "1   -1.3048   101.8272       318.6   1.5    1.2  2023-01-01       640   \n",
      "2   -2.5064   120.3362       311.4   1.0    1.0  2023-01-02       543   \n",
      "3   -2.5153   120.3375       307.8   1.0    1.0  2023-01-02       543   \n",
      "4   -2.3944   120.8498       320.5   1.0    1.0  2023-01-02       543   \n",
      "5   -2.7547   121.7294       344.8   1.1    1.0  2023-01-02       543   \n",
      "6   -2.7533   121.7388       310.4   1.1    1.0  2023-01-02       543   \n",
      "7   -2.9122   121.1542       312.8   1.0    1.0  2023-01-02       543   \n",
      "8   -2.9427   121.7032       328.8   1.0    1.0  2023-01-02       543   \n",
      "9   -4.0833   122.5457       309.8   1.1    1.0  2023-01-02       543   \n",
      "\n",
      "  satellite instrument  confidence  version  bright_t31   frp daynight  type  \n",
      "0      Aqua      MODIS          21    61.03       271.1  16.2        D     0  \n",
      "1      Aqua      MODIS          66    61.03       276.7  27.5        D     0  \n",
      "2      Aqua      MODIS          66    61.03       286.2   6.5        D     0  \n",
      "3      Aqua      MODIS          38    61.03       285.7   4.0        D     0  \n",
      "4      Aqua      MODIS          54    61.03       291.2  10.6        D     0  \n",
      "5      Aqua      MODIS          93    61.03       296.3  50.1        D     0  \n",
      "6      Aqua      MODIS          47    61.03       294.4   4.6        D     0  \n",
      "7      Aqua      MODIS          63    61.03       294.9   6.7        D     0  \n",
      "8      Aqua      MODIS          83    61.03       295.8  23.1        D     0  \n",
      "9      Aqua      MODIS          59    61.03       276.0   7.3        D     0  \n"
     ]
    }
   ],
   "source": [
    "import pandas as pd\n",
    "\n",
    "# Load the data\n",
    "file_path = 'assets/data/indonesia2023.csv'\n",
    "indonesia_fires = pd.read_csv(file_path)\n",
    "print(indonesia_fires.head(10))"
   ]
  },
  {
   "cell_type": "markdown",
   "metadata": {},
   "source": [
    "•\tlatitude: Latitude of the fire location.\n",
    "•\tlongitude: Longitude of the fire location.\n",
    "•\tbrightness: Brightness temperature measured at the fire location.\n",
    "•\tacq_date: Date of fire detection.\n",
    "•\tfrp: Fire Radiative Power, which indicates the fire’s intensity."
   ]
  },
  {
   "cell_type": "markdown",
   "metadata": {},
   "source": [
    "### Convert into geoJSON"
   ]
  },
  {
   "cell_type": "code",
   "execution_count": 5,
   "metadata": {},
   "outputs": [
    {
     "data": {
      "text/plain": [
       "'assets/data/indonesia_fires_2023.geojson'"
      ]
     },
     "execution_count": 5,
     "metadata": {},
     "output_type": "execute_result"
    }
   ],
   "source": [
    "import json\n",
    "\n",
    "def df_to_geojson(df, properties, lat='latitude', lon='longitude'):\n",
    "    geojson = {'type':'FeatureCollection', 'features':[]}\n",
    "    for _, row in df.iterrows():\n",
    "        feature = {\n",
    "            'type': 'Feature',\n",
    "            'geometry': {\n",
    "                'type': 'Point',\n",
    "                'coordinates': [row[lon], row[lat]]\n",
    "            },\n",
    "            'properties': {prop: row[prop] for prop in properties}\n",
    "        }\n",
    "        geojson['features'].append(feature)\n",
    "    return geojson\n",
    "\n",
    "# Define properties to include in GeoJSON\n",
    "properties = ['brightness', 'acq_date', 'frp']\n",
    "\n",
    "# Convert dataframe to GeoJSON\n",
    "geojson_data = df_to_geojson(indonesia_fires, properties)\n",
    "\n",
    "# Save to file\n",
    "geojson_file_path = 'assets/data/indonesia_fires_2023.geojson'\n",
    "with open(geojson_file_path, 'w') as f:\n",
    "    json.dump(geojson_data, f)\n",
    "\n",
    "geojson_file_path"
   ]
  }
 ],
 "metadata": {
  "kernelspec": {
   "display_name": "Python 3",
   "language": "python",
   "name": "python3"
  },
  "language_info": {
   "codemirror_mode": {
    "name": "ipython",
    "version": 3
   },
   "file_extension": ".py",
   "mimetype": "text/x-python",
   "name": "python",
   "nbconvert_exporter": "python",
   "pygments_lexer": "ipython3",
   "version": "3.9.6"
  }
 },
 "nbformat": 4,
 "nbformat_minor": 2
}
